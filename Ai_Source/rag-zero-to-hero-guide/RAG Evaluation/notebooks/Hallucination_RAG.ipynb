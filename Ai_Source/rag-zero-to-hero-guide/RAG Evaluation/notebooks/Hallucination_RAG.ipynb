{
  "nbformat": 4,
  "nbformat_minor": 0,
  "metadata": {
    "colab": {
      "provenance": []
    },
    "kernelspec": {
      "name": "python3",
      "display_name": "Python 3"
    },
    "language_info": {
      "name": "python"
    },
    "widgets": {
      "application/vnd.jupyter.widget-state+json": {
        "a64f7772ae814e98a1ac4aad27b8923f": {
          "model_module": "@jupyter-widgets/controls",
          "model_name": "HBoxModel",
          "model_module_version": "1.5.0",
          "state": {
            "_dom_classes": [],
            "_model_module": "@jupyter-widgets/controls",
            "_model_module_version": "1.5.0",
            "_model_name": "HBoxModel",
            "_view_count": null,
            "_view_module": "@jupyter-widgets/controls",
            "_view_module_version": "1.5.0",
            "_view_name": "HBoxView",
            "box_style": "",
            "children": [
              "IPY_MODEL_a891f62d570b4dbf82869d296574a65b",
              "IPY_MODEL_6547e40c7bb649a596f83d95de2f10c1",
              "IPY_MODEL_5918fd8e06224fd3bfd93fd8190292ed"
            ],
            "layout": "IPY_MODEL_0d732b0b33a74b9dbe0ca17c1b83e67a"
          }
        },
        "a891f62d570b4dbf82869d296574a65b": {
          "model_module": "@jupyter-widgets/controls",
          "model_name": "HTMLModel",
          "model_module_version": "1.5.0",
          "state": {
            "_dom_classes": [],
            "_model_module": "@jupyter-widgets/controls",
            "_model_module_version": "1.5.0",
            "_model_name": "HTMLModel",
            "_view_count": null,
            "_view_module": "@jupyter-widgets/controls",
            "_view_module_version": "1.5.0",
            "_view_name": "HTMLView",
            "description": "",
            "description_tooltip": null,
            "layout": "IPY_MODEL_fa28e781ba3a4ead8e93043ff6c1cc99",
            "placeholder": "​",
            "style": "IPY_MODEL_aec00cdc300e48a18f371b4c7b2c1a75",
            "value": "model.safetensors: 100%"
          }
        },
        "6547e40c7bb649a596f83d95de2f10c1": {
          "model_module": "@jupyter-widgets/controls",
          "model_name": "FloatProgressModel",
          "model_module_version": "1.5.0",
          "state": {
            "_dom_classes": [],
            "_model_module": "@jupyter-widgets/controls",
            "_model_module_version": "1.5.0",
            "_model_name": "FloatProgressModel",
            "_view_count": null,
            "_view_module": "@jupyter-widgets/controls",
            "_view_module_version": "1.5.0",
            "_view_name": "ProgressView",
            "bar_style": "success",
            "description": "",
            "description_tooltip": null,
            "layout": "IPY_MODEL_89681fcca73846749a6c97e061466c6d",
            "max": 598439784,
            "min": 0,
            "orientation": "horizontal",
            "style": "IPY_MODEL_058cd765ebc64dc2a8976765feb1df74",
            "value": 598439784
          }
        },
        "5918fd8e06224fd3bfd93fd8190292ed": {
          "model_module": "@jupyter-widgets/controls",
          "model_name": "HTMLModel",
          "model_module_version": "1.5.0",
          "state": {
            "_dom_classes": [],
            "_model_module": "@jupyter-widgets/controls",
            "_model_module_version": "1.5.0",
            "_model_name": "HTMLModel",
            "_view_count": null,
            "_view_module": "@jupyter-widgets/controls",
            "_view_module_version": "1.5.0",
            "_view_name": "HTMLView",
            "description": "",
            "description_tooltip": null,
            "layout": "IPY_MODEL_e4f82dd725014348b111e417ac3655f9",
            "placeholder": "​",
            "style": "IPY_MODEL_71ce480ead7447b88ec6d8282dd59a1a",
            "value": " 598M/598M [00:06&lt;00:00, 63.9MB/s]"
          }
        },
        "0d732b0b33a74b9dbe0ca17c1b83e67a": {
          "model_module": "@jupyter-widgets/base",
          "model_name": "LayoutModel",
          "model_module_version": "1.2.0",
          "state": {
            "_model_module": "@jupyter-widgets/base",
            "_model_module_version": "1.2.0",
            "_model_name": "LayoutModel",
            "_view_count": null,
            "_view_module": "@jupyter-widgets/base",
            "_view_module_version": "1.2.0",
            "_view_name": "LayoutView",
            "align_content": null,
            "align_items": null,
            "align_self": null,
            "border": null,
            "bottom": null,
            "display": null,
            "flex": null,
            "flex_flow": null,
            "grid_area": null,
            "grid_auto_columns": null,
            "grid_auto_flow": null,
            "grid_auto_rows": null,
            "grid_column": null,
            "grid_gap": null,
            "grid_row": null,
            "grid_template_areas": null,
            "grid_template_columns": null,
            "grid_template_rows": null,
            "height": null,
            "justify_content": null,
            "justify_items": null,
            "left": null,
            "margin": null,
            "max_height": null,
            "max_width": null,
            "min_height": null,
            "min_width": null,
            "object_fit": null,
            "object_position": null,
            "order": null,
            "overflow": null,
            "overflow_x": null,
            "overflow_y": null,
            "padding": null,
            "right": null,
            "top": null,
            "visibility": null,
            "width": null
          }
        },
        "fa28e781ba3a4ead8e93043ff6c1cc99": {
          "model_module": "@jupyter-widgets/base",
          "model_name": "LayoutModel",
          "model_module_version": "1.2.0",
          "state": {
            "_model_module": "@jupyter-widgets/base",
            "_model_module_version": "1.2.0",
            "_model_name": "LayoutModel",
            "_view_count": null,
            "_view_module": "@jupyter-widgets/base",
            "_view_module_version": "1.2.0",
            "_view_name": "LayoutView",
            "align_content": null,
            "align_items": null,
            "align_self": null,
            "border": null,
            "bottom": null,
            "display": null,
            "flex": null,
            "flex_flow": null,
            "grid_area": null,
            "grid_auto_columns": null,
            "grid_auto_flow": null,
            "grid_auto_rows": null,
            "grid_column": null,
            "grid_gap": null,
            "grid_row": null,
            "grid_template_areas": null,
            "grid_template_columns": null,
            "grid_template_rows": null,
            "height": null,
            "justify_content": null,
            "justify_items": null,
            "left": null,
            "margin": null,
            "max_height": null,
            "max_width": null,
            "min_height": null,
            "min_width": null,
            "object_fit": null,
            "object_position": null,
            "order": null,
            "overflow": null,
            "overflow_x": null,
            "overflow_y": null,
            "padding": null,
            "right": null,
            "top": null,
            "visibility": null,
            "width": null
          }
        },
        "aec00cdc300e48a18f371b4c7b2c1a75": {
          "model_module": "@jupyter-widgets/controls",
          "model_name": "DescriptionStyleModel",
          "model_module_version": "1.5.0",
          "state": {
            "_model_module": "@jupyter-widgets/controls",
            "_model_module_version": "1.5.0",
            "_model_name": "DescriptionStyleModel",
            "_view_count": null,
            "_view_module": "@jupyter-widgets/base",
            "_view_module_version": "1.2.0",
            "_view_name": "StyleView",
            "description_width": ""
          }
        },
        "89681fcca73846749a6c97e061466c6d": {
          "model_module": "@jupyter-widgets/base",
          "model_name": "LayoutModel",
          "model_module_version": "1.2.0",
          "state": {
            "_model_module": "@jupyter-widgets/base",
            "_model_module_version": "1.2.0",
            "_model_name": "LayoutModel",
            "_view_count": null,
            "_view_module": "@jupyter-widgets/base",
            "_view_module_version": "1.2.0",
            "_view_name": "LayoutView",
            "align_content": null,
            "align_items": null,
            "align_self": null,
            "border": null,
            "bottom": null,
            "display": null,
            "flex": null,
            "flex_flow": null,
            "grid_area": null,
            "grid_auto_columns": null,
            "grid_auto_flow": null,
            "grid_auto_rows": null,
            "grid_column": null,
            "grid_gap": null,
            "grid_row": null,
            "grid_template_areas": null,
            "grid_template_columns": null,
            "grid_template_rows": null,
            "height": null,
            "justify_content": null,
            "justify_items": null,
            "left": null,
            "margin": null,
            "max_height": null,
            "max_width": null,
            "min_height": null,
            "min_width": null,
            "object_fit": null,
            "object_position": null,
            "order": null,
            "overflow": null,
            "overflow_x": null,
            "overflow_y": null,
            "padding": null,
            "right": null,
            "top": null,
            "visibility": null,
            "width": null
          }
        },
        "058cd765ebc64dc2a8976765feb1df74": {
          "model_module": "@jupyter-widgets/controls",
          "model_name": "ProgressStyleModel",
          "model_module_version": "1.5.0",
          "state": {
            "_model_module": "@jupyter-widgets/controls",
            "_model_module_version": "1.5.0",
            "_model_name": "ProgressStyleModel",
            "_view_count": null,
            "_view_module": "@jupyter-widgets/base",
            "_view_module_version": "1.2.0",
            "_view_name": "StyleView",
            "bar_color": null,
            "description_width": ""
          }
        },
        "e4f82dd725014348b111e417ac3655f9": {
          "model_module": "@jupyter-widgets/base",
          "model_name": "LayoutModel",
          "model_module_version": "1.2.0",
          "state": {
            "_model_module": "@jupyter-widgets/base",
            "_model_module_version": "1.2.0",
            "_model_name": "LayoutModel",
            "_view_count": null,
            "_view_module": "@jupyter-widgets/base",
            "_view_module_version": "1.2.0",
            "_view_name": "LayoutView",
            "align_content": null,
            "align_items": null,
            "align_self": null,
            "border": null,
            "bottom": null,
            "display": null,
            "flex": null,
            "flex_flow": null,
            "grid_area": null,
            "grid_auto_columns": null,
            "grid_auto_flow": null,
            "grid_auto_rows": null,
            "grid_column": null,
            "grid_gap": null,
            "grid_row": null,
            "grid_template_areas": null,
            "grid_template_columns": null,
            "grid_template_rows": null,
            "height": null,
            "justify_content": null,
            "justify_items": null,
            "left": null,
            "margin": null,
            "max_height": null,
            "max_width": null,
            "min_height": null,
            "min_width": null,
            "object_fit": null,
            "object_position": null,
            "order": null,
            "overflow": null,
            "overflow_x": null,
            "overflow_y": null,
            "padding": null,
            "right": null,
            "top": null,
            "visibility": null,
            "width": null
          }
        },
        "71ce480ead7447b88ec6d8282dd59a1a": {
          "model_module": "@jupyter-widgets/controls",
          "model_name": "DescriptionStyleModel",
          "model_module_version": "1.5.0",
          "state": {
            "_model_module": "@jupyter-widgets/controls",
            "_model_module_version": "1.5.0",
            "_model_name": "DescriptionStyleModel",
            "_view_count": null,
            "_view_module": "@jupyter-widgets/base",
            "_view_module_version": "1.2.0",
            "_view_name": "StyleView",
            "description_width": ""
          }
        }
      }
    }
  },
  "cells": [
    {
      "cell_type": "markdown",
      "source": [
        "# **Detect Hallucination in RAG**\n",
        "\n",
        "Authored by [Kalyan KS](https://www.linkedin.com/in/kalyanksnlp/). To stay updated with LLMs, RAG and Agents, you can follow him on [LinkedIn](https://www.linkedin.com/in/kalyanksnlp/), [Twitter](https://x.com/kalyan_kpl) and [YouTube](https://youtube.com/@kalyanksnlp?si=ZdoC0WPN9TmAOvKB).\n"
      ],
      "metadata": {
        "id": "76vH5qrnZm6c"
      }
    },
    {
      "cell_type": "markdown",
      "source": [
        "## **Overview**\n",
        "\n",
        "1. Large Language Models (LLMs) have advanced significantly but face challenges in real-world use due to hallucinations.\n",
        "\n",
        "2. Hallucinations are LLM generated responses that are factually incorrect.\n",
        "\n",
        "3. Retrieval-Augmented Generation (RAG) enhances LLMs by providing relevant context from external knowledge sources.\n",
        "\n",
        "4. RAG helps to reduce hallucinations, yet LLMs still experience them even with added context.\n"
      ],
      "metadata": {
        "id": "w-AgY8TpZxKC"
      }
    },
    {
      "cell_type": "markdown",
      "source": [
        "## **Detect hallucination in RAG using LLMs**"
      ],
      "metadata": {
        "id": "Bwkgg556F-sS"
      }
    },
    {
      "cell_type": "code",
      "source": [
        "!pip install langchain langchain-openai"
      ],
      "metadata": {
        "colab": {
          "base_uri": "https://localhost:8080/"
        },
        "id": "Om76Up25IPK1",
        "outputId": "de33fd8d-39f8-40fa-f04b-fb26dad99d38"
      },
      "execution_count": null,
      "outputs": [
        {
          "output_type": "stream",
          "name": "stdout",
          "text": [
            "Requirement already satisfied: langchain in /usr/local/lib/python3.11/dist-packages (0.3.21)\n",
            "Collecting langchain-openai\n",
            "  Downloading langchain_openai-0.3.11-py3-none-any.whl.metadata (2.3 kB)\n",
            "Requirement already satisfied: langchain-core<1.0.0,>=0.3.45 in /usr/local/lib/python3.11/dist-packages (from langchain) (0.3.47)\n",
            "Requirement already satisfied: langchain-text-splitters<1.0.0,>=0.3.7 in /usr/local/lib/python3.11/dist-packages (from langchain) (0.3.7)\n",
            "Requirement already satisfied: langsmith<0.4,>=0.1.17 in /usr/local/lib/python3.11/dist-packages (from langchain) (0.3.18)\n",
            "Requirement already satisfied: pydantic<3.0.0,>=2.7.4 in /usr/local/lib/python3.11/dist-packages (from langchain) (2.10.6)\n",
            "Requirement already satisfied: SQLAlchemy<3,>=1.4 in /usr/local/lib/python3.11/dist-packages (from langchain) (2.0.39)\n",
            "Requirement already satisfied: requests<3,>=2 in /usr/local/lib/python3.11/dist-packages (from langchain) (2.32.3)\n",
            "Requirement already satisfied: PyYAML>=5.3 in /usr/local/lib/python3.11/dist-packages (from langchain) (6.0.2)\n",
            "Collecting langchain-core<1.0.0,>=0.3.45 (from langchain)\n",
            "  Downloading langchain_core-0.3.49-py3-none-any.whl.metadata (5.9 kB)\n",
            "Requirement already satisfied: openai<2.0.0,>=1.68.2 in /usr/local/lib/python3.11/dist-packages (from langchain-openai) (1.68.2)\n",
            "Collecting tiktoken<1,>=0.7 (from langchain-openai)\n",
            "  Downloading tiktoken-0.9.0-cp311-cp311-manylinux_2_17_x86_64.manylinux2014_x86_64.whl.metadata (6.7 kB)\n",
            "Requirement already satisfied: tenacity!=8.4.0,<10.0.0,>=8.1.0 in /usr/local/lib/python3.11/dist-packages (from langchain-core<1.0.0,>=0.3.45->langchain) (9.0.0)\n",
            "Requirement already satisfied: jsonpatch<2.0,>=1.33 in /usr/local/lib/python3.11/dist-packages (from langchain-core<1.0.0,>=0.3.45->langchain) (1.33)\n",
            "Requirement already satisfied: packaging<25,>=23.2 in /usr/local/lib/python3.11/dist-packages (from langchain-core<1.0.0,>=0.3.45->langchain) (24.2)\n",
            "Requirement already satisfied: typing-extensions>=4.7 in /usr/local/lib/python3.11/dist-packages (from langchain-core<1.0.0,>=0.3.45->langchain) (4.12.2)\n",
            "Requirement already satisfied: httpx<1,>=0.23.0 in /usr/local/lib/python3.11/dist-packages (from langsmith<0.4,>=0.1.17->langchain) (0.28.1)\n",
            "Requirement already satisfied: orjson<4.0.0,>=3.9.14 in /usr/local/lib/python3.11/dist-packages (from langsmith<0.4,>=0.1.17->langchain) (3.10.15)\n",
            "Requirement already satisfied: requests-toolbelt<2.0.0,>=1.0.0 in /usr/local/lib/python3.11/dist-packages (from langsmith<0.4,>=0.1.17->langchain) (1.0.0)\n",
            "Requirement already satisfied: zstandard<0.24.0,>=0.23.0 in /usr/local/lib/python3.11/dist-packages (from langsmith<0.4,>=0.1.17->langchain) (0.23.0)\n",
            "Requirement already satisfied: anyio<5,>=3.5.0 in /usr/local/lib/python3.11/dist-packages (from openai<2.0.0,>=1.68.2->langchain-openai) (4.9.0)\n",
            "Requirement already satisfied: distro<2,>=1.7.0 in /usr/local/lib/python3.11/dist-packages (from openai<2.0.0,>=1.68.2->langchain-openai) (1.9.0)\n",
            "Requirement already satisfied: jiter<1,>=0.4.0 in /usr/local/lib/python3.11/dist-packages (from openai<2.0.0,>=1.68.2->langchain-openai) (0.9.0)\n",
            "Requirement already satisfied: sniffio in /usr/local/lib/python3.11/dist-packages (from openai<2.0.0,>=1.68.2->langchain-openai) (1.3.1)\n",
            "Requirement already satisfied: tqdm>4 in /usr/local/lib/python3.11/dist-packages (from openai<2.0.0,>=1.68.2->langchain-openai) (4.67.1)\n",
            "Requirement already satisfied: annotated-types>=0.6.0 in /usr/local/lib/python3.11/dist-packages (from pydantic<3.0.0,>=2.7.4->langchain) (0.7.0)\n",
            "Requirement already satisfied: pydantic-core==2.27.2 in /usr/local/lib/python3.11/dist-packages (from pydantic<3.0.0,>=2.7.4->langchain) (2.27.2)\n",
            "Requirement already satisfied: charset-normalizer<4,>=2 in /usr/local/lib/python3.11/dist-packages (from requests<3,>=2->langchain) (3.4.1)\n",
            "Requirement already satisfied: idna<4,>=2.5 in /usr/local/lib/python3.11/dist-packages (from requests<3,>=2->langchain) (3.10)\n",
            "Requirement already satisfied: urllib3<3,>=1.21.1 in /usr/local/lib/python3.11/dist-packages (from requests<3,>=2->langchain) (2.3.0)\n",
            "Requirement already satisfied: certifi>=2017.4.17 in /usr/local/lib/python3.11/dist-packages (from requests<3,>=2->langchain) (2025.1.31)\n",
            "Requirement already satisfied: greenlet!=0.4.17 in /usr/local/lib/python3.11/dist-packages (from SQLAlchemy<3,>=1.4->langchain) (3.1.1)\n",
            "Requirement already satisfied: regex>=2022.1.18 in /usr/local/lib/python3.11/dist-packages (from tiktoken<1,>=0.7->langchain-openai) (2024.11.6)\n",
            "Requirement already satisfied: httpcore==1.* in /usr/local/lib/python3.11/dist-packages (from httpx<1,>=0.23.0->langsmith<0.4,>=0.1.17->langchain) (1.0.7)\n",
            "Requirement already satisfied: h11<0.15,>=0.13 in /usr/local/lib/python3.11/dist-packages (from httpcore==1.*->httpx<1,>=0.23.0->langsmith<0.4,>=0.1.17->langchain) (0.14.0)\n",
            "Requirement already satisfied: jsonpointer>=1.9 in /usr/local/lib/python3.11/dist-packages (from jsonpatch<2.0,>=1.33->langchain-core<1.0.0,>=0.3.45->langchain) (3.0.0)\n",
            "Downloading langchain_openai-0.3.11-py3-none-any.whl (60 kB)\n",
            "\u001b[2K   \u001b[90m━━━━━━━━━━━━━━━━━━━━━━━━━━━━━━━━━━━━━━━━\u001b[0m \u001b[32m60.1/60.1 kB\u001b[0m \u001b[31m3.7 MB/s\u001b[0m eta \u001b[36m0:00:00\u001b[0m\n",
            "\u001b[?25hDownloading langchain_core-0.3.49-py3-none-any.whl (420 kB)\n",
            "\u001b[2K   \u001b[90m━━━━━━━━━━━━━━━━━━━━━━━━━━━━━━━━━━━━━━━━\u001b[0m \u001b[32m420.1/420.1 kB\u001b[0m \u001b[31m15.7 MB/s\u001b[0m eta \u001b[36m0:00:00\u001b[0m\n",
            "\u001b[?25hDownloading tiktoken-0.9.0-cp311-cp311-manylinux_2_17_x86_64.manylinux2014_x86_64.whl (1.2 MB)\n",
            "\u001b[2K   \u001b[90m━━━━━━━━━━━━━━━━━━━━━━━━━━━━━━━━━━━━━━━━\u001b[0m \u001b[32m1.2/1.2 MB\u001b[0m \u001b[31m36.8 MB/s\u001b[0m eta \u001b[36m0:00:00\u001b[0m\n",
            "\u001b[?25hInstalling collected packages: tiktoken, langchain-core, langchain-openai\n",
            "  Attempting uninstall: langchain-core\n",
            "    Found existing installation: langchain-core 0.3.47\n",
            "    Uninstalling langchain-core-0.3.47:\n",
            "      Successfully uninstalled langchain-core-0.3.47\n",
            "Successfully installed langchain-core-0.3.49 langchain-openai-0.3.11 tiktoken-0.9.0\n"
          ]
        }
      ]
    },
    {
      "cell_type": "code",
      "source": [
        "from google.colab import userdata\n",
        "import os\n",
        "os.environ[\"OPENAI_API_KEY\"] = userdata.get('OPENAI_API_KEY')"
      ],
      "metadata": {
        "id": "EnzfWgJ1IRAE"
      },
      "execution_count": null,
      "outputs": []
    },
    {
      "cell_type": "code",
      "source": [
        "from langchain_openai import ChatOpenAI\n",
        "from langchain_core.prompts import ChatPromptTemplate\n",
        "from langchain_core.output_parsers import PydanticOutputParser\n",
        "from pydantic import BaseModel, Field\n",
        "import os"
      ],
      "metadata": {
        "id": "j7HTlFR9Iyu7"
      },
      "execution_count": null,
      "outputs": []
    },
    {
      "cell_type": "code",
      "source": [
        "# Set up the LLM\n",
        "llm = ChatOpenAI(model=\"gpt-4o\", temperature=0)"
      ],
      "metadata": {
        "id": "e64NFcwLJEmQ"
      },
      "execution_count": null,
      "outputs": []
    },
    {
      "cell_type": "code",
      "source": [
        "# Pydantic model for structured outputs\n",
        "class HallucinationResult(BaseModel):\n",
        "    hallucination_detected: bool = Field(description=\"Whether a hallucination was detected in the answer\")\n",
        "    hallucinated_text_span: str = Field(description=\"The specific text in the answer that contains the hallucination, or empty string if none\")\n",
        "    details: str = Field(description=\"Explanation of why the answer is considered a hallucination or why it is correct\")\n",
        "\n",
        "output_parser = PydanticOutputParser(pydantic_object=HallucinationResult)"
      ],
      "metadata": {
        "id": "kYPsq95yF-JN"
      },
      "execution_count": null,
      "outputs": []
    },
    {
      "cell_type": "code",
      "source": [
        "# Hallucination detection prompt\n",
        "chat_prompt = ChatPromptTemplate.from_template(\n",
        "    \"\"\"You are an expert fact-checker tasked with detecting hallucinations (inaccurate or unsupported information) in answers based on provided context and question. A hallucination occurs when the answer contains information that contradicts the context, is not supported by it, or introduces extraneous details not asked for by the question.\n",
        "\n",
        "Context: {context}\n",
        "Question: {question}\n",
        "Answer: {answer}\n",
        "\n",
        "Your task is to:\n",
        "1. Compare the answer to the context and question.\n",
        "2. Identify any specific text spans in the answer that are hallucinatory (inaccurate or unsupported).\n",
        "3. Provide a detailed explanation of your findings.\n",
        "4. Return the result in the following structured JSON format, adhering to the schema below.\n",
        "\n",
        "\n",
        "Please analyze the answer for hallucinations and provide the result in the requested format.\n",
        "{format_instructions}\n",
        "\"\"\"\n",
        ")\n",
        "\n",
        "# Hallucination detection chain\n",
        "hallucination_detector = chat_prompt | llm | output_parser\n"
      ],
      "metadata": {
        "id": "_3NcFG7SJL9Q"
      },
      "execution_count": null,
      "outputs": []
    },
    {
      "cell_type": "code",
      "source": [
        "# Define context, question and answer.\n",
        "context = \"France is a country in Europe. The capital of France is Paris. The population of France is 67 million.\"\n",
        "question = \"What is the capital of France? What is the population of France?\"\n",
        "answer = \"The capital of France is Paris. The population of France is 69 million.\"\n",
        "\n",
        "\n",
        "# Run the chain to get the hallucinated text spans\n",
        "result = hallucination_detector.invoke({\n",
        "    \"context\": context,\n",
        "    \"question\": question,\n",
        "    \"answer\": answer,\n",
        "    \"format_instructions\": output_parser.get_format_instructions()\n",
        "})\n",
        "\n",
        "# Display the results\n",
        "print(f\"Hallucination Detected: {result.hallucination_detected}\")\n",
        "print(f\"Hallucinated Text Span: '{result.hallucinated_text_span}'\")\n",
        "print(f\"Details: {result.details}\")"
      ],
      "metadata": {
        "colab": {
          "base_uri": "https://localhost:8080/"
        },
        "id": "Kjc3YO2FJU9j",
        "outputId": "472e9a43-ed2d-4589-dcb8-1f257e418662"
      },
      "execution_count": null,
      "outputs": [
        {
          "output_type": "stream",
          "name": "stdout",
          "text": [
            "Hallucination Detected: True\n",
            "Hallucinated Text Span: 'The population of France is 69 million.'\n",
            "Details: The context states that the population of France is 67 million, but the answer incorrectly states it as 69 million. This discrepancy indicates a hallucination in the answer.\n"
          ]
        }
      ]
    },
    {
      "cell_type": "markdown",
      "source": [
        "## **Detect hallucination in RAG using LettuceDetect**\n",
        "\n",
        "1. We can use LettuceDetect, a novel framework to detect hallucination in RAG.\n",
        "\n",
        "2. LettuceDetect framework approaches the task of hallucination detection as a token classification problem.\n",
        "\n",
        "3. Based on the retrieved context and user question, the framework detects the hallucinated text in the generated response.\n",
        "\n",
        "\n",
        "\n",
        "\n",
        "\n"
      ],
      "metadata": {
        "id": "h2MVM3rxaKlH"
      }
    },
    {
      "cell_type": "markdown",
      "source": [
        "![LettuceDetect.jpg](data:image/jpeg;base64,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)"
      ],
      "metadata": {
        "id": "L_umJ2egg0hC"
      }
    },
    {
      "cell_type": "markdown",
      "source": [
        "### **LettuceDetect Framework**\n",
        "\n",
        "1. LettuceDetect framework leverages ModernBERT model fine-tuned over RAGTruth dataset.\n",
        "\n",
        "2. LettuceDetect addresses two critical limitations in existing hallucination detection methods:\n",
        "    -  the context window constraints of traditional encoder-based methods, and\n",
        "    - the computational inefficiency of LLM-based approaches.\n",
        "\n",
        "3. LettuceDetect outperforms all previous encoder-based models and most prompt-based models, while being approximately 30 times smaller than the best models.\n",
        "\n",
        "4. Importantly,  LettuceDetect can process 30 to 60 examples per second on a single GPU, making it more practical for real-world RAG applications.\n",
        "\n",
        "5. LettuceDetect offers two models namely\n",
        "     - lettucedetect-base: https://huggingface.co/KRLabsOrg/lettucedect-base-modernbert-en-v1\n",
        "     - lettucedetect-large: https://huggingface.co/KRLabsOrg/lettucedect-large-modernbert-en-v1"
      ],
      "metadata": {
        "id": "r3akaEvpg3Qm"
      }
    },
    {
      "cell_type": "markdown",
      "source": [
        "### **Implementation**\n",
        "\n",
        "**Note** - lettucedetect requires CUDA 11.8"
      ],
      "metadata": {
        "id": "87S6a8-ob4Lu"
      }
    },
    {
      "cell_type": "code",
      "source": [
        "# Uninstall existing torchvision\n",
        "!pip uninstall torchvision -y\n",
        "\n",
        "# Install PyTorch and compatible torchvision with CUDA 11.8 support\n",
        "!pip install --upgrade torch torchvision torchaudio --index-url https://download.pytorch.org/whl/cu118\n",
        "\n",
        "# Install lettucedetect library\n",
        "!pip install lettucedetect"
      ],
      "metadata": {
        "id": "Gtzi7VrqdSXz",
        "colab": {
          "base_uri": "https://localhost:8080/"
        },
        "outputId": "02a40797-973d-4d0f-90ef-74fd336e0388"
      },
      "execution_count": null,
      "outputs": [
        {
          "output_type": "stream",
          "name": "stdout",
          "text": [
            "Found existing installation: torchvision 0.21.0+cu124\n",
            "Uninstalling torchvision-0.21.0+cu124:\n",
            "  Successfully uninstalled torchvision-0.21.0+cu124\n",
            "Looking in indexes: https://download.pytorch.org/whl/cu118\n",
            "Requirement already satisfied: torch in /usr/local/lib/python3.11/dist-packages (2.6.0+cu118)\n",
            "Collecting torchvision\n",
            "  Downloading https://download.pytorch.org/whl/cu118/torchvision-0.21.0%2Bcu118-cp311-cp311-linux_x86_64.whl.metadata (6.1 kB)\n",
            "Requirement already satisfied: torchaudio in /usr/local/lib/python3.11/dist-packages (2.6.0+cu124)\n",
            "Requirement already satisfied: filelock in /usr/local/lib/python3.11/dist-packages (from torch) (3.18.0)\n",
            "Requirement already satisfied: typing-extensions>=4.10.0 in /usr/local/lib/python3.11/dist-packages (from torch) (4.12.2)\n",
            "Requirement already satisfied: networkx in /usr/local/lib/python3.11/dist-packages (from torch) (3.4.2)\n",
            "Requirement already satisfied: jinja2 in /usr/local/lib/python3.11/dist-packages (from torch) (3.1.6)\n",
            "Requirement already satisfied: fsspec in /usr/local/lib/python3.11/dist-packages (from torch) (2025.3.0)\n",
            "Requirement already satisfied: nvidia-cuda-nvrtc-cu11==11.8.89 in /usr/local/lib/python3.11/dist-packages (from torch) (11.8.89)\n",
            "Requirement already satisfied: nvidia-cuda-runtime-cu11==11.8.89 in /usr/local/lib/python3.11/dist-packages (from torch) (11.8.89)\n",
            "Requirement already satisfied: nvidia-cuda-cupti-cu11==11.8.87 in /usr/local/lib/python3.11/dist-packages (from torch) (11.8.87)\n",
            "Requirement already satisfied: nvidia-cudnn-cu11==9.1.0.70 in /usr/local/lib/python3.11/dist-packages (from torch) (9.1.0.70)\n",
            "Requirement already satisfied: nvidia-cublas-cu11==11.11.3.6 in /usr/local/lib/python3.11/dist-packages (from torch) (11.11.3.6)\n",
            "Requirement already satisfied: nvidia-cufft-cu11==10.9.0.58 in /usr/local/lib/python3.11/dist-packages (from torch) (10.9.0.58)\n",
            "Requirement already satisfied: nvidia-curand-cu11==10.3.0.86 in /usr/local/lib/python3.11/dist-packages (from torch) (10.3.0.86)\n",
            "Requirement already satisfied: nvidia-cusolver-cu11==11.4.1.48 in /usr/local/lib/python3.11/dist-packages (from torch) (11.4.1.48)\n",
            "Requirement already satisfied: nvidia-cusparse-cu11==11.7.5.86 in /usr/local/lib/python3.11/dist-packages (from torch) (11.7.5.86)\n",
            "Requirement already satisfied: nvidia-nccl-cu11==2.21.5 in /usr/local/lib/python3.11/dist-packages (from torch) (2.21.5)\n",
            "Requirement already satisfied: nvidia-nvtx-cu11==11.8.86 in /usr/local/lib/python3.11/dist-packages (from torch) (11.8.86)\n",
            "Requirement already satisfied: triton==3.2.0 in /usr/local/lib/python3.11/dist-packages (from torch) (3.2.0)\n",
            "Requirement already satisfied: sympy==1.13.1 in /usr/local/lib/python3.11/dist-packages (from torch) (1.13.1)\n",
            "Requirement already satisfied: mpmath<1.4,>=1.1.0 in /usr/local/lib/python3.11/dist-packages (from sympy==1.13.1->torch) (1.3.0)\n",
            "Requirement already satisfied: numpy in /usr/local/lib/python3.11/dist-packages (from torchvision) (2.2.4)\n",
            "Requirement already satisfied: pillow!=8.3.*,>=5.3.0 in /usr/local/lib/python3.11/dist-packages (from torchvision) (11.1.0)\n",
            "Requirement already satisfied: MarkupSafe>=2.0 in /usr/local/lib/python3.11/dist-packages (from jinja2->torch) (3.0.2)\n",
            "Downloading https://download.pytorch.org/whl/cu118/torchvision-0.21.0%2Bcu118-cp311-cp311-linux_x86_64.whl (6.5 MB)\n",
            "\u001b[2K   \u001b[90m━━━━━━━━━━━━━━━━━━━━━━━━━━━━━━━━━━━━━━━━\u001b[0m \u001b[32m6.5/6.5 MB\u001b[0m \u001b[31m58.5 MB/s\u001b[0m eta \u001b[36m0:00:00\u001b[0m\n",
            "\u001b[?25hInstalling collected packages: torchvision\n",
            "Successfully installed torchvision-0.21.0+cu118\n",
            "Requirement already satisfied: lettucedetect in /usr/local/lib/python3.11/dist-packages (0.1.6)\n",
            "Requirement already satisfied: torch>=2.6.0 in /usr/local/lib/python3.11/dist-packages (from lettucedetect) (2.6.0+cu118)\n",
            "Requirement already satisfied: transformers>=4.48.3 in /usr/local/lib/python3.11/dist-packages (from lettucedetect) (4.50.0)\n",
            "Requirement already satisfied: tqdm>=4.65.0 in /usr/local/lib/python3.11/dist-packages (from lettucedetect) (4.67.1)\n",
            "Requirement already satisfied: scikit-learn>=1.6.1 in /usr/local/lib/python3.11/dist-packages (from lettucedetect) (1.6.1)\n",
            "Requirement already satisfied: numpy>=2.2.2 in /usr/local/lib/python3.11/dist-packages (from lettucedetect) (2.2.4)\n",
            "Requirement already satisfied: scipy>=1.6.0 in /usr/local/lib/python3.11/dist-packages (from scikit-learn>=1.6.1->lettucedetect) (1.14.1)\n",
            "Requirement already satisfied: joblib>=1.2.0 in /usr/local/lib/python3.11/dist-packages (from scikit-learn>=1.6.1->lettucedetect) (1.4.2)\n",
            "Requirement already satisfied: threadpoolctl>=3.1.0 in /usr/local/lib/python3.11/dist-packages (from scikit-learn>=1.6.1->lettucedetect) (3.6.0)\n",
            "Requirement already satisfied: filelock in /usr/local/lib/python3.11/dist-packages (from torch>=2.6.0->lettucedetect) (3.18.0)\n",
            "Requirement already satisfied: typing-extensions>=4.10.0 in /usr/local/lib/python3.11/dist-packages (from torch>=2.6.0->lettucedetect) (4.12.2)\n",
            "Requirement already satisfied: networkx in /usr/local/lib/python3.11/dist-packages (from torch>=2.6.0->lettucedetect) (3.4.2)\n",
            "Requirement already satisfied: jinja2 in /usr/local/lib/python3.11/dist-packages (from torch>=2.6.0->lettucedetect) (3.1.6)\n",
            "Requirement already satisfied: fsspec in /usr/local/lib/python3.11/dist-packages (from torch>=2.6.0->lettucedetect) (2025.3.0)\n",
            "Requirement already satisfied: nvidia-cuda-nvrtc-cu11==11.8.89 in /usr/local/lib/python3.11/dist-packages (from torch>=2.6.0->lettucedetect) (11.8.89)\n",
            "Requirement already satisfied: nvidia-cuda-runtime-cu11==11.8.89 in /usr/local/lib/python3.11/dist-packages (from torch>=2.6.0->lettucedetect) (11.8.89)\n",
            "Requirement already satisfied: nvidia-cuda-cupti-cu11==11.8.87 in /usr/local/lib/python3.11/dist-packages (from torch>=2.6.0->lettucedetect) (11.8.87)\n",
            "Requirement already satisfied: nvidia-cudnn-cu11==9.1.0.70 in /usr/local/lib/python3.11/dist-packages (from torch>=2.6.0->lettucedetect) (9.1.0.70)\n",
            "Requirement already satisfied: nvidia-cublas-cu11==11.11.3.6 in /usr/local/lib/python3.11/dist-packages (from torch>=2.6.0->lettucedetect) (11.11.3.6)\n",
            "Requirement already satisfied: nvidia-cufft-cu11==10.9.0.58 in /usr/local/lib/python3.11/dist-packages (from torch>=2.6.0->lettucedetect) (10.9.0.58)\n",
            "Requirement already satisfied: nvidia-curand-cu11==10.3.0.86 in /usr/local/lib/python3.11/dist-packages (from torch>=2.6.0->lettucedetect) (10.3.0.86)\n",
            "Requirement already satisfied: nvidia-cusolver-cu11==11.4.1.48 in /usr/local/lib/python3.11/dist-packages (from torch>=2.6.0->lettucedetect) (11.4.1.48)\n",
            "Requirement already satisfied: nvidia-cusparse-cu11==11.7.5.86 in /usr/local/lib/python3.11/dist-packages (from torch>=2.6.0->lettucedetect) (11.7.5.86)\n",
            "Requirement already satisfied: nvidia-nccl-cu11==2.21.5 in /usr/local/lib/python3.11/dist-packages (from torch>=2.6.0->lettucedetect) (2.21.5)\n",
            "Requirement already satisfied: nvidia-nvtx-cu11==11.8.86 in /usr/local/lib/python3.11/dist-packages (from torch>=2.6.0->lettucedetect) (11.8.86)\n",
            "Requirement already satisfied: triton==3.2.0 in /usr/local/lib/python3.11/dist-packages (from torch>=2.6.0->lettucedetect) (3.2.0)\n",
            "Requirement already satisfied: sympy==1.13.1 in /usr/local/lib/python3.11/dist-packages (from torch>=2.6.0->lettucedetect) (1.13.1)\n",
            "Requirement already satisfied: mpmath<1.4,>=1.1.0 in /usr/local/lib/python3.11/dist-packages (from sympy==1.13.1->torch>=2.6.0->lettucedetect) (1.3.0)\n",
            "Requirement already satisfied: huggingface-hub<1.0,>=0.26.0 in /usr/local/lib/python3.11/dist-packages (from transformers>=4.48.3->lettucedetect) (0.29.3)\n",
            "Requirement already satisfied: packaging>=20.0 in /usr/local/lib/python3.11/dist-packages (from transformers>=4.48.3->lettucedetect) (24.2)\n",
            "Requirement already satisfied: pyyaml>=5.1 in /usr/local/lib/python3.11/dist-packages (from transformers>=4.48.3->lettucedetect) (6.0.2)\n",
            "Requirement already satisfied: regex!=2019.12.17 in /usr/local/lib/python3.11/dist-packages (from transformers>=4.48.3->lettucedetect) (2024.11.6)\n",
            "Requirement already satisfied: requests in /usr/local/lib/python3.11/dist-packages (from transformers>=4.48.3->lettucedetect) (2.32.3)\n",
            "Requirement already satisfied: tokenizers<0.22,>=0.21 in /usr/local/lib/python3.11/dist-packages (from transformers>=4.48.3->lettucedetect) (0.21.1)\n",
            "Requirement already satisfied: safetensors>=0.4.3 in /usr/local/lib/python3.11/dist-packages (from transformers>=4.48.3->lettucedetect) (0.5.3)\n",
            "Requirement already satisfied: MarkupSafe>=2.0 in /usr/local/lib/python3.11/dist-packages (from jinja2->torch>=2.6.0->lettucedetect) (3.0.2)\n",
            "Requirement already satisfied: charset-normalizer<4,>=2 in /usr/local/lib/python3.11/dist-packages (from requests->transformers>=4.48.3->lettucedetect) (3.4.1)\n",
            "Requirement already satisfied: idna<4,>=2.5 in /usr/local/lib/python3.11/dist-packages (from requests->transformers>=4.48.3->lettucedetect) (3.10)\n",
            "Requirement already satisfied: urllib3<3,>=1.21.1 in /usr/local/lib/python3.11/dist-packages (from requests->transformers>=4.48.3->lettucedetect) (2.3.0)\n",
            "Requirement already satisfied: certifi>=2017.4.17 in /usr/local/lib/python3.11/dist-packages (from requests->transformers>=4.48.3->lettucedetect) (2025.1.31)\n"
          ]
        }
      ]
    },
    {
      "cell_type": "code",
      "source": [
        "from lettucedetect.models.inference import HallucinationDetector\n",
        "\n",
        "# Initialize the HallucinationDetector with specific parameters\n",
        "# - method=\"transformer\": specifies to use transformer-based detection\n",
        "# - model_path: specifies the pre-trained model to use\n",
        "detector = HallucinationDetector(\n",
        "    method=\"transformer\", model_path=\"KRLabsOrg/lettucedect-base-modernbert-en-v1\"\n",
        ")\n",
        "\n",
        "# Define contexts, question and answer\n",
        "contexts = [\"France is a country in Europe. The capital of France is Paris. The population of France is 67 million.\",]\n",
        "question = \"What is the capital of France? What is the population of France?\"\n",
        "answer = \"The capital of France is Paris. The population of France is 69 million.\"\n",
        "\n",
        "# Run the predict() to detect potential hallucinations\n",
        "# - context: the factual background information\n",
        "# - question: the query being answered\n",
        "# - answer: the response to evaluate\n",
        "# - output_format=\"spans\": return results as text spans\n",
        "predictions = detector.predict(context=contexts, question=question, answer=answer, output_format=\"spans\")"
      ],
      "metadata": {
        "colab": {
          "base_uri": "https://localhost:8080/",
          "height": 123,
          "referenced_widgets": [
            "a64f7772ae814e98a1ac4aad27b8923f",
            "a891f62d570b4dbf82869d296574a65b",
            "6547e40c7bb649a596f83d95de2f10c1",
            "5918fd8e06224fd3bfd93fd8190292ed",
            "0d732b0b33a74b9dbe0ca17c1b83e67a",
            "fa28e781ba3a4ead8e93043ff6c1cc99",
            "aec00cdc300e48a18f371b4c7b2c1a75",
            "89681fcca73846749a6c97e061466c6d",
            "058cd765ebc64dc2a8976765feb1df74",
            "e4f82dd725014348b111e417ac3655f9",
            "71ce480ead7447b88ec6d8282dd59a1a"
          ]
        },
        "id": "esUOmvEqb9L5",
        "outputId": "807cb9a5-9593-481b-f8eb-fbb2335ac168"
      },
      "execution_count": null,
      "outputs": [
        {
          "output_type": "display_data",
          "data": {
            "text/plain": [
              "model.safetensors:   0%|          | 0.00/598M [00:00<?, ?B/s]"
            ],
            "application/vnd.jupyter.widget-view+json": {
              "version_major": 2,
              "version_minor": 0,
              "model_id": "a64f7772ae814e98a1ac4aad27b8923f"
            }
          },
          "metadata": {}
        },
        {
          "output_type": "stream",
          "name": "stderr",
          "text": [
            "/usr/local/lib/python3.11/dist-packages/lettucedetect/models/inference.py:85: UserWarning: To copy construct from a tensor, it is recommended to use sourceTensor.clone().detach() or sourceTensor.clone().detach().requires_grad_(True), rather than torch.tensor(sourceTensor).\n",
            "  labels = torch.tensor(labels, device=self.device)\n",
            "Compiling the model with `torch.compile` and using a `torch.cpu` device is not supported. Falling back to non-compiled mode.\n"
          ]
        }
      ]
    },
    {
      "cell_type": "code",
      "source": [
        "# Display the hallucinated text span\n",
        "print(f\"Hallucinated text: {predictions[0]['text']}\")"
      ],
      "metadata": {
        "colab": {
          "base_uri": "https://localhost:8080/"
        },
        "id": "5Urr1MpHeWai",
        "outputId": "ec7ba1b3-561b-4fcd-84b8-d14d2ba547b1"
      },
      "execution_count": null,
      "outputs": [
        {
          "output_type": "stream",
          "name": "stdout",
          "text": [
            "Hallucinated text:  The population of France is 69 million.\n"
          ]
        }
      ]
    }
  ]
}